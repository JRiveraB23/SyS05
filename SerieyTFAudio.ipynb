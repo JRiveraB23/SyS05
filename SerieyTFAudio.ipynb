{
  "nbformat": 4,
  "nbformat_minor": 0,
  "metadata": {
    "kernelspec": {
      "display_name": "Python 3",
      "language": "python",
      "name": "python3"
    },
    "language_info": {
      "codemirror_mode": {
        "name": "ipython",
        "version": 3
      },
      "file_extension": ".py",
      "mimetype": "text/x-python",
      "name": "python",
      "nbconvert_exporter": "python",
      "pygments_lexer": "ipython3",
      "version": "3.7.1"
    },
    "colab": {
      "provenance": [],
      "include_colab_link": true
    }
  },
  "cells": [
    {
      "cell_type": "markdown",
      "metadata": {
        "id": "view-in-github",
        "colab_type": "text"
      },
      "source": [
        "<a href=\"https://colab.research.google.com/github/JRiveraB23/SyS05/blob/main/SerieyTFAudio.ipynb\" target=\"_parent\"><img src=\"https://colab.research.google.com/assets/colab-badge.svg\" alt=\"Open In Colab\"/></a>"
      ]
    },
    {
      "cell_type": "code",
      "metadata": {
        "id": "H9r429U2FU-K"
      },
      "source": [
        "!python3 -m pip install --force-reinstall https://github.com/yt-dlp/yt-dlp/archive/master.tar.gz"
      ],
      "execution_count": null,
      "outputs": []
    },
    {
      "cell_type": "markdown",
      "metadata": {
        "id": "id34_cJvFr4Y"
      },
      "source": [
        "- Se debe incluir el link del video a procesar:"
      ]
    },
    {
      "cell_type": "code",
      "source": [
        "link=\"https://www.youtube.com/watch?v=ctb9uuxJVHQ\"\n",
        "!yt-dlp --extract-audio -o \"audio\" --audio-format mp3 {link}"
      ],
      "metadata": {
        "id": "qEvtxF6qIH9e"
      },
      "execution_count": null,
      "outputs": []
    },
    {
      "cell_type": "markdown",
      "metadata": {
        "id": "Pbl2iVKQGiXx"
      },
      "source": [
        "- Se convierte el audio a .wav para procesar:"
      ]
    },
    {
      "cell_type": "code",
      "metadata": {
        "id": "uJSACNCvGhsp"
      },
      "source": [
        "!ffmpeg -y -i audio.mp3 output.wav"
      ],
      "execution_count": null,
      "outputs": []
    },
    {
      "cell_type": "markdown",
      "metadata": {
        "id": "O1fgCa3uT3Bk"
      },
      "source": [
        "Librería para manipulación de archivos de audio"
      ]
    },
    {
      "cell_type": "code",
      "metadata": {
        "id": "4TLC8lowL3o6"
      },
      "source": [
        "!pip install soundfile"
      ],
      "execution_count": null,
      "outputs": []
    },
    {
      "cell_type": "code",
      "metadata": {
        "id": "wo0WaxdNK5rx"
      },
      "source": [
        "import soundfile as sf # para instalar pip install soundfile\n",
        "#lee archivos wav\n",
        "nombre_out = \"output.wav\"\n",
        "x, fs = sf.read(nombre_out)\n",
        "# read speech signal from file\n",
        "print('Frecuencia de muestreo %.2f[Hz]\\naudio %s' % (fs,nombre_out))"
      ],
      "execution_count": null,
      "outputs": []
    },
    {
      "cell_type": "markdown",
      "source": [
        "El audio viene codificado en dos canales:"
      ],
      "metadata": {
        "id": "OdSNTDUpdaTQ"
      }
    },
    {
      "cell_type": "code",
      "source": [
        "x.shape"
      ],
      "metadata": {
        "id": "p5apywbCdYsC"
      },
      "execution_count": null,
      "outputs": []
    },
    {
      "cell_type": "code",
      "metadata": {
        "id": "NuE3Gggposdw"
      },
      "source": [
        "from IPython.display import Audio\n",
        "ns = 30 #se reproducen los primeros ns segundos\n",
        "Audio(x[:int(fs*ns),:].T,rate=fs)"
      ],
      "execution_count": null,
      "outputs": []
    },
    {
      "cell_type": "markdown",
      "source": [
        "- Se gráfica un intervalo de la señal en el tiempo:"
      ],
      "metadata": {
        "id": "n3BMujdjdhVp"
      }
    },
    {
      "cell_type": "code",
      "source": [
        "import numpy as np\n",
        "import matplotlib.pyplot as plt\n",
        "\n",
        "xpro = x.copy() #copiar archivos para procesar\n",
        "ti = 10 #tiempo incio a procesar seg\n",
        "tf = 15 #tiempo final a procesar seg\n",
        "xs = xpro[int(ti*fs):int((tf*fs)),:]\n",
        "\n",
        "tt = np.arange(ti,tf,1/fs) # vector de tiempo\n",
        "plt.plot(tt,xs)\n",
        "plt.legend(('canal 1','canal 2'))\n",
        "plt.xlabel('$t[s]$')\n",
        "plt.ylabel('$x(t)$')\n",
        "plt.legend()\n",
        "plt.show()"
      ],
      "metadata": {
        "id": "jHxsZiicdltZ"
      },
      "execution_count": null,
      "outputs": []
    },
    {
      "cell_type": "markdown",
      "metadata": {
        "id": "ZbJsHYj8HeC6"
      },
      "source": [
        "- Se cálcula el espectro de Fourier del segmento de audio escogido sobre cada canal (sonido estereo)."
      ]
    },
    {
      "cell_type": "code",
      "metadata": {
        "id": "Tb6-m9wFK5r1"
      },
      "source": [
        "Xw = np.fft.rfft(xs,axis=0) # axis=0 permite aplicar fft por cada columna de xpro\n",
        "#Xwc1 = np.fft.rfft(xs[:,0])\n",
        "#Xwc2 = np.fft.rfft(xs[:,1])\n",
        "vf = np.fft.rfftfreq(np.size(xs,0),1/fs) #se crea el vector de frecuencias\n",
        "plt.plot(vf,abs(Xw))#se grafica la magnitud\n",
        "plt.legend(('canal 1','canal 2'))\n",
        "plt.title(r'Espectro audio original')\n",
        "plt.xlabel(r'$f[Hz]$',fontsize = 14)\n",
        "plt.ylabel(r'$|X[n]|$',fontsize = 14)\n",
        "plt.show()"
      ],
      "execution_count": null,
      "outputs": []
    },
    {
      "cell_type": "markdown",
      "source": [
        "- En este caso, se plantea un filtro pasa banda, apagando los armónicos que no nos interesa."
      ],
      "metadata": {
        "id": "ZHNTXzY3gshG"
      }
    },
    {
      "cell_type": "code",
      "metadata": {
        "id": "ImndxlmJK5r7"
      },
      "source": [
        "#filtrar espectro\n",
        "Xwf = Xw.copy()\n",
        "f1 = 500 #frecuencia en Hz corte 1\n",
        "f2 = 1000 #frecuencia en Hz corte 2\n",
        "ind = ~((vf > f1) & (vf < f2)) #frecuencias eliminar-> recueder que ~ actua como negación\n",
        "Xwf[ind,:] = 0\n",
        "plt.plot(vf,abs(Xwf))\n",
        "plt.legend(('canal 1','canal 2'))\n",
        "plt.show()"
      ],
      "execution_count": null,
      "outputs": []
    },
    {
      "cell_type": "markdown",
      "source": [
        "filtro pasa bajos"
      ],
      "metadata": {
        "id": "az8fJiN0skGa"
      }
    },
    {
      "cell_type": "code",
      "source": [
        "#filtrar espectro\n",
        "Xwfb = Xw.copy()\n",
        "f1 = 5000 #frecuencia en Hz corte 1\n",
        "#f2 = 1000 #frecuencia en Hz corte 2\n",
        "ind = ~((vf < f1)) #frecuencias eliminar-> recueder que ~ actua como negación\n",
        "Xwfb[ind,:] = 0\n",
        "plt.plot(vf,abs(Xwfb))\n",
        "plt.legend(('canal 1','canal 2'))\n",
        "plt.show()"
      ],
      "metadata": {
        "id": "NOd_DgIpt7QZ"
      },
      "execution_count": null,
      "outputs": []
    },
    {
      "cell_type": "markdown",
      "source": [
        "filtro pasa altas"
      ],
      "metadata": {
        "id": "WxLIgCf2sob8"
      }
    },
    {
      "cell_type": "code",
      "source": [
        "#filtrar espectro\n",
        "Xwfa = Xw.copy()\n",
        "f1 = 5000 #frecuencia en Hz corte 1\n",
        "#f2 = 1000 #frecuencia en Hz corte 2\n",
        "ind = ~((vf > f1)) #frecuencias eliminar-> recueder que ~ actua como negación\n",
        "Xwfa[ind,:] = 0\n",
        "plt.plot(vf,abs(Xwfa))\n",
        "plt.legend(('canal 1','canal 2'))\n",
        "plt.show()"
      ],
      "metadata": {
        "id": "Q11rloiquQyZ"
      },
      "execution_count": null,
      "outputs": []
    },
    {
      "cell_type": "markdown",
      "source": [
        "filtro rechaza banda"
      ],
      "metadata": {
        "id": "92SzJhmesqgw"
      }
    },
    {
      "cell_type": "code",
      "metadata": {
        "id": "yiG7Erv1ug6J"
      },
      "source": [
        "#filtrar espectro\n",
        "Xwfrr = Xw.copy()\n",
        "f1 = 100 #frecuencia en Hz corte 1\n",
        "f2 = 6000#frecuencia en Hz corte 2\n",
        "ind = ((vf > f1) & (vf < f2)) #frecuencias eliminar-> recueder que ~ actua como negación\n",
        "Xwfrr[ind,:] = 0\n",
        "plt.plot(vf,abs(Xwfrr))\n",
        "plt.legend(('canal 1','canal 2'))\n",
        "plt.show()"
      ],
      "execution_count": null,
      "outputs": []
    },
    {
      "cell_type": "markdown",
      "source": [],
      "metadata": {
        "id": "NUtVKrdasqoY"
      }
    },
    {
      "cell_type": "markdown",
      "metadata": {
        "id": "-UcihDJOH36s"
      },
      "source": [
        "- Ahora, se reconstruye la señal mediante la fft inversa."
      ]
    },
    {
      "cell_type": "code",
      "metadata": {
        "id": "wwdabADuK5r_"
      },
      "source": [
        "xe2 = np.fft.irfft(Xwf,axis=0) #fft inversa sobre los dos canales de audio\n",
        "xe2b = np.fft.irfft(Xwfb,axis=0) #fft inversa sobre los dos canales de audio\n",
        "xe2a = np.fft.irfft(Xwfa,axis=0) #fft inversa sobre los dos canales de audio\n",
        "xe2r = np.fft.irfft(Xwfrr,axis=0) #fft inversa sobre los dos canales de audio"
      ],
      "execution_count": null,
      "outputs": []
    },
    {
      "cell_type": "code",
      "metadata": {
        "id": "QREAQlXxpwgq"
      },
      "source": [
        "Audio(xe2[:int(fs*ns),:].T,rate=fs)#señal del filtro pasa banda"
      ],
      "execution_count": null,
      "outputs": []
    },
    {
      "cell_type": "code",
      "metadata": {
        "id": "UzOLbIBtuxoS"
      },
      "source": [
        "Audio(xe2b[:int(fs*ns),:].T,rate=fs)#señal del filtro pasa baja"
      ],
      "execution_count": null,
      "outputs": []
    },
    {
      "cell_type": "code",
      "metadata": {
        "id": "VMYlaOdHux53"
      },
      "source": [
        "Audio(xe2a[:int(fs*ns),:].T,rate=fs)#señal del filtro pasa alta"
      ],
      "execution_count": null,
      "outputs": []
    },
    {
      "cell_type": "code",
      "metadata": {
        "id": "dK_zET3buyBH"
      },
      "source": [
        "Audio(xe2r[:int(fs*ns),:].T,rate=fs)#señal del filtro rechaza banda"
      ],
      "execution_count": null,
      "outputs": []
    }
  ]
}