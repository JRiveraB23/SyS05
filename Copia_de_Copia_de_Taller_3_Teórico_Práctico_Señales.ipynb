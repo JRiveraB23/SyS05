{
  "cells": [
    {
      "cell_type": "markdown",
      "metadata": {
        "id": "view-in-github",
        "colab_type": "text"
      },
      "source": [
        "<a href=\"https://colab.research.google.com/github/JRiveraB23/SyS05/blob/main/Copia_de_Copia_de_Taller_3_Te%C3%B3rico_Pr%C3%A1ctico_Se%C3%B1ales.ipynb\" target=\"_parent\"><img src=\"https://colab.research.google.com/assets/colab-badge.svg\" alt=\"Open In Colab\"/></a>"
      ]
    },
    {
      "cell_type": "markdown",
      "metadata": {
        "id": "VkKnWi46p3ed"
      },
      "source": [
        "\n",
        "\n"
      ]
    },
    {
      "cell_type": "code",
      "execution_count": null,
      "metadata": {
        "cellView": "form",
        "id": "0pQvz_Dpp24a"
      },
      "outputs": [],
      "source": [
        "#@title FUNCIONES Y LIBRERÍAS\n",
        "\n",
        "%matplotlib inline\n",
        "import matplotlib as mpl\n",
        "import matplotlib.pyplot as plt\n",
        "import numpy as np\n",
        "import warnings\n",
        "warnings.filterwarnings(\"ignore\")\n",
        "import scipy\n",
        "import sympy as sym\n",
        "import ipywidgets\n",
        "\n",
        "from scipy import signal\n",
        "from IPython.display import Markdown as md\n",
        "from ipywidgets import interact\n",
        "from scipy.spatial.distance import cdist\n",
        "from scipy.spatial import distance\n",
        "from sympy import Symbol\n",
        "from sympy import sin, cos\n",
        "from sympy import oo\n",
        "from sympy import *\n",
        "from sympy import DiracDelta, S\n",
        "from numpy import exp, pi, arange, real, imag, abs, angle, sqrt\n",
        "from numpy import sin, sqrt, cos\n",
        "from scipy import signal\n",
        "from matplotlib import animation, rc\n",
        "from IPython.display import HTML\n",
        "import warnings\n",
        "sym.init_printing()"
      ]
    },
    {
      "cell_type": "markdown",
      "metadata": {
        "id": "M80VIqnMqx_F"
      },
      "source": [
        "##***Nota:***\n",
        "Todos los procedimientos matemáticos se realizaron en el siguiente PDF. Si no hay ningún procedimiento en algún punto, es porque este se encuentra en el [PDF](https://drive.google.com/file/d/1hbKgUaa98ALVggplKjmNXAda1FgOc7WV/view?usp=sharing)."
      ]
    },
    {
      "cell_type": "markdown",
      "metadata": {
        "id": "HJxVj2uWrJrW"
      },
      "source": [
        "# *Transformada de Laplace y análisisde sistemas lineales e invariantes con el tiempo*\n",
        "\n",
        "**1.**Consultar y realizar los ejercicios del cuaderno *Definición transformada de Laplace*.\n",
        "\n",
        "Obtenga $X(s)$ junto con su ROC de la siguiente gráfica de polos y ceros.\n",
        "\n",
        "![Ilustración de los polos y ceros en un gráfico de polos y ceros](https://github.com/amalvarezme/SenalesSistemas/blob/master/4_Transformada_Laplace/pz_plot.png?raw=1)"
      ]
    },
    {
      "cell_type": "markdown",
      "source": [
        "**2** Consultar y realizar los ejercicios del cuaderno *Propiedades básicas transformada de Laplace*.\n",
        "\n",
        "Determinar los polos y ceros de la transforma de Laplace $L\\{ϵ*sin(\\omega_o t)\\} $ mediante el cálculo manual y extendido el ejemplo anterior.\n",
        "¿Qué simetría muestran los polos y los ceros en el plano s?\n",
        "\n"
      ],
      "metadata": {
        "id": "t9zNQbrrqSzg"
      }
    },
    {
      "cell_type": "markdown",
      "source": [
        "**3** Demuestre las siguiente propiedades (sin utilizar tablas de propiedades)."
      ],
      "metadata": {
        "id": "iPLQtDVBrUyv"
      }
    },
    {
      "cell_type": "markdown",
      "source": [
        "**4** Encuentre la transformada de Laplace, dibuje el esquime de polos y ceros y la región de convergencia (ROC).\n"
      ],
      "metadata": {
        "id": "YWx_lFcH705T"
      }
    },
    {
      "cell_type": "markdown",
      "source": [
        "**5.** Consultar y realizar los ejercicios del cuaderno de la Transformada inversa de Laplace."
      ],
      "metadata": {
        "id": "OuMg3_UE73nZ"
      }
    },
    {
      "cell_type": "markdown",
      "metadata": {
        "id": "BuN-6tC0h-qb"
      },
      "source": [
        "**6.** Consultar y realizar los ejercicios del cuaderno Autofunciones y SLITS.\n",
        "\n",
        "**Ejercicio**\n",
        "\n",
        "* ¿Qué relación tiene $\\lambda$ con el la salida obtenida al resolver la EDO?\n",
        "\n",
        "> ***R/*** En el cuaderno se planteó que $x(t)=e^{st}$ y $y(t)=\\lambda\\cdot e^{st}$. Y se reemplaza en la ecuación\n",
        "\n",
        "$$\n",
        "x(t)=a_{0}y(t) + a_{1}\\frac{dy(t)}{dt} + a_{2}\\frac{d^{2}y(t)}{dt^{2}}\n",
        "$$\n",
        "\n",
        "Entonces quedaría\n",
        "\n",
        "$$\n",
        "e^{st}=a_{0}\\lambda e^{st} + a_{1}\\lambda se^{st} + a_{2} \\lambda s^{2}e^{st}\n",
        "$$\n",
        "\n",
        "Agrupando términos comunos daría\n",
        "\n",
        "$$\n",
        "e^{st}=\\lambda e^{st}(a_{0}+a_{1}s+a_{2}s^{2})\n",
        "$$\n",
        "\n",
        "Luego, se despeja $\\lambda$ y quedaría\n",
        "\n",
        "$$\n",
        "\\lambda=\\frac{1}{a_{0}+a_{1}s+a_{2}s^{2}}\n",
        "$$\n",
        "\n",
        "Como se puede evidenciar, para la salida $y(t)$ planteada en el cuaderno, $\\lambda$ dio lo mismo, pero multiplicándolo por $e^st$.\n",
        "\n",
        "* ¿Puede generalizar sus resultados a una EDO de orden arbitrario?\n",
        "\n",
        "> ***R/*** Sí, esta expresión se puede generalizar a\n",
        "\n",
        "$$\n",
        "x(t)=a_{0}y(t) + a_{1}\\frac{dy(t)}{dt} + a_{2}\\frac{d^{2}y(t)}{dt^{2}} + \\ldots + a_m\\frac{d^{m}y(t)}{dt^m}\n",
        "$$\n",
        "\n",
        "Entonces quedaría\n",
        "\n",
        "$$\n",
        "e^{st}=a_{0}\\lambda e^{st} + a_{1}\\lambda se^{st} + a_{2} \\lambda s^{2}e^{st}+ \\ldots + a_m\\lambda s^m e^{st}\n",
        "$$\n",
        "\n",
        "Agrupando términos comunos daría\n",
        "\n",
        "$$\n",
        "e^{st}=\\lambda e^{st}(a_{0}+a_{1}s+a_{2}s^{2}+\\ldots + a_ms^m)\n",
        "$$\n",
        "\n",
        "Luego, se despeja $\\lambda$ y quedaría\n",
        "\n",
        "$$\n",
        "\\lambda=\\frac{1}{a_{0}+a_{1}s+a_{2}s^{2}+\\ldots+a_{m} \\lambda s^{m}}\n",
        "$$\n"
      ]
    },
    {
      "cell_type": "markdown",
      "source": [
        "**7** Encuentre la función de transferencia en lazo abierto para un circuito RLC SERIE (entrada tensión de alimentación- sálida tensión del capacitor) y un circuito RCL EN PARLELO (entrada corriente de alimentación - salida corriente en el inductor). NOTA: Tenga en cuenta las condiciones iniciales del sistema según lo explicado en el material de apoyo Circuito RLC y Análisis de redes eléctricas."
      ],
      "metadata": {
        "id": "pf6EvXVFsKT_"
      }
    },
    {
      "cell_type": "markdown",
      "source": [
        "**8.** Para las funciones de transferencia en lazo abierto encontradas en el punto anterior, encuentre la expresión de la salida en el tiempo para una configuración en lazo cerrado del sistema, en función de R,L,C para las siguientes entradas: 1) impulso, 2) Escalón unitario 3) Rampa.\n",
        "\n",
        "Compruebe los resultados en simulación sobre python (utilizando sympy) y gráfique la señal de salida para cada caso."
      ],
      "metadata": {
        "id": "HHWGUO3gs96v"
      }
    },
    {
      "cell_type": "markdown",
      "source": [
        "## i) Impulso\n",
        "\n",
        "Condiciones iniciales cero"
      ],
      "metadata": {
        "id": "DD790Aa6Uta7"
      }
    },
    {
      "cell_type": "code",
      "source": [
        "%matplotlib inline\n",
        "import sympy as sym\n",
        "sym.init_printing()\n",
        "\n",
        "s = sym.symbols('s', complex=True)\n",
        "t, R, L, C = sym.symbols('t R L C', positive=True)\n",
        "X = sym.Function('X')(s)\n",
        "\n",
        "Y = X/(L*C*s**2 + R*C*s + 1)\n",
        "RLC = {R:1 , L: sym.Rational('.5'), C: sym.Rational('.3')}\n",
        "\n",
        "y = sym.inverse_laplace_transform(Y.subs(RLC).subs(X, 1), s, t) # entrada impulso que en laplace es 1\n",
        "y = y.simplify()\n",
        "y"
      ],
      "metadata": {
        "id": "BYajp_rQUyqA",
        "colab": {
          "base_uri": "https://localhost:8080/",
          "height": 66
        },
        "outputId": "8aed01af-8fda-4388-edb3-dc2df99e6cb7"
      },
      "execution_count": null,
      "outputs": [
        {
          "output_type": "execute_result",
          "data": {
            "text/plain": [
              "        -t    ⎛√51⋅t⎞\n",
              "20⋅√51⋅ℯ  ⋅sin⎜─────⎟\n",
              "              ⎝  3  ⎠\n",
              "─────────────────────\n",
              "          51         "
            ],
            "text/latex": "$\\displaystyle \\frac{20 \\sqrt{51} e^{- t} \\sin{\\left(\\frac{\\sqrt{51} t}{3} \\right)}}{51}$"
          },
          "metadata": {},
          "execution_count": 1
        }
      ]
    },
    {
      "cell_type": "code",
      "source": [
        "sym.plot(y, (t, 0, 5), xlabel='$t$', ylabel='$y(t)$');"
      ],
      "metadata": {
        "id": "gJNXIbTtU2Bw",
        "colab": {
          "base_uri": "https://localhost:8080/",
          "height": 486
        },
        "outputId": "0035ed79-50d1-47c0-91e2-4d10d9ce4e74"
      },
      "execution_count": null,
      "outputs": [
        {
          "output_type": "display_data",
          "data": {
            "text/plain": [
              "<Figure size 640x480 with 1 Axes>"
            ],
            "image/png": "[encoded data removed]"
          },
          "metadata": {}
        }
      ]
    },
    {
      "cell_type": "markdown",
      "source": [
        "Condiciones iniciales diferentes cero\n",
        "\n",
        "\\begin{equation}\n",
        "y(t) = y_\\text{ext}(t) + y_\\text{int}(t)\n",
        "\\end{equation}"
      ],
      "metadata": {
        "id": "Rjml9TrkVD_h"
      }
    },
    {
      "cell_type": "code",
      "source": [
        "yext = y\n",
        "yext.simplify()"
      ],
      "metadata": {
        "id": "zYVeaW3tVG3z",
        "colab": {
          "base_uri": "https://localhost:8080/",
          "height": 66
        },
        "outputId": "1b7fa95d-cd67-477f-fd44-d2ad240a9073"
      },
      "execution_count": null,
      "outputs": [
        {
          "output_type": "execute_result",
          "data": {
            "text/plain": [
              "        -t    ⎛√51⋅t⎞\n",
              "20⋅√51⋅ℯ  ⋅sin⎜─────⎟\n",
              "              ⎝  3  ⎠\n",
              "─────────────────────\n",
              "          51         "
            ],
            "text/latex": "$\\displaystyle \\frac{20 \\sqrt{51} e^{- t} \\sin{\\left(\\frac{\\sqrt{51} t}{3} \\right)}}{51}$"
          },
          "metadata": {},
          "execution_count": 3
        }
      ]
    },
    {
      "cell_type": "code",
      "source": [
        "i0, y0 = sym.symbols('i0 y0', real=True)\n",
        "\n",
        "Yint = (R*C + L*C*s) / (L*C*s**2 + R*C*s + 1) * y0 + L / (L*C*s**2 + R*C*s + 1) * i0\n",
        "Yint"
      ],
      "metadata": {
        "id": "UWNIi7KyVLFQ",
        "colab": {
          "base_uri": "https://localhost:8080/",
          "height": 54
        },
        "outputId": "459d05db-504c-4150-8dad-adf9c8c62026"
      },
      "execution_count": null,
      "outputs": [
        {
          "output_type": "execute_result",
          "data": {
            "text/plain": [
              "       L⋅i₀           y₀⋅(C⋅L⋅s + C⋅R) \n",
              "────────────────── + ──────────────────\n",
              "     2                    2            \n",
              "C⋅L⋅s  + C⋅R⋅s + 1   C⋅L⋅s  + C⋅R⋅s + 1"
            ],
            "text/latex": "$\\displaystyle \\frac{L i_{0}}{C L s^{2} + C R s + 1} + \\frac{y_{0} \\left(C L s + C R\\right)}{C L s^{2} + C R s + 1}$"
          },
          "metadata": {},
          "execution_count": 4
        }
      ]
    },
    {
      "cell_type": "code",
      "source": [
        "yint = sym.inverse_laplace_transform(Yint.subs(RLC).subs(i0, 1).subs(y0, -1), s, t)\n",
        "yint"
      ],
      "metadata": {
        "id": "ynDAt4iQVNfi",
        "colab": {
          "base_uri": "https://localhost:8080/",
          "height": 75
        },
        "outputId": "bf500131-cf72-4433-fdd6-0cfb9d73c261"
      },
      "execution_count": null,
      "outputs": [
        {
          "output_type": "execute_result",
          "data": {
            "text/plain": [
              "       -t    ⎛√51⋅t⎞                 \n",
              "7⋅√51⋅ℯ  ⋅sin⎜─────⎟                 \n",
              "             ⎝  3  ⎠    -t    ⎛√51⋅t⎞\n",
              "──────────────────── - ℯ  ⋅cos⎜─────⎟\n",
              "         51                   ⎝  3  ⎠"
            ],
            "text/latex": "$\\displaystyle \\frac{7 \\sqrt{51} e^{- t} \\sin{\\left(\\frac{\\sqrt{51} t}{3} \\right)}}{51} - e^{- t} \\cos{\\left(\\frac{\\sqrt{51} t}{3} \\right)}$"
          },
          "metadata": {},
          "execution_count": 5
        }
      ]
    },
    {
      "cell_type": "code",
      "source": [
        "y = yext + yint\n",
        "y.simplify()"
      ],
      "metadata": {
        "id": "rssm0EfAVPdy",
        "colab": {
          "base_uri": "https://localhost:8080/",
          "height": 81
        },
        "outputId": "09f8a5dd-ab79-4ad1-ddce-da80751f8c36"
      },
      "execution_count": null,
      "outputs": [
        {
          "output_type": "execute_result",
          "data": {
            "text/plain": [
              "⎛         ⎛√51⋅t⎞             ⎞    \n",
              "⎜9⋅√51⋅sin⎜─────⎟             ⎟    \n",
              "⎜         ⎝  3  ⎠      ⎛√51⋅t⎞⎟  -t\n",
              "⎜──────────────── - cos⎜─────⎟⎟⋅ℯ  \n",
              "⎝       17             ⎝  3  ⎠⎠    "
            ],
            "text/latex": "$\\displaystyle \\left(\\frac{9 \\sqrt{51} \\sin{\\left(\\frac{\\sqrt{51} t}{3} \\right)}}{17} - \\cos{\\left(\\frac{\\sqrt{51} t}{3} \\right)}\\right) e^{- t}$"
          },
          "metadata": {},
          "execution_count": 6
        }
      ]
    },
    {
      "cell_type": "code",
      "source": [
        "p1 = sym.plot(yext, (t, 0, 5), line_color='b', xlabel='$t$', ylabel='$y(t)$', show=False)\n",
        "p2 = sym.plot(yint, (t, 0, 5), line_color='g', show=False)\n",
        "p3 = sym.plot(y, (t, 0, 5), line_color='r', show=False)\n",
        "p1.extend(p2)\n",
        "p1.extend(p3)\n",
        "p1.show()"
      ],
      "metadata": {
        "id": "dOcagnwHVT9h",
        "colab": {
          "base_uri": "https://localhost:8080/",
          "height": 487
        },
        "outputId": "b382c9c3-6f52-47c4-e344-90055e19de81"
      },
      "execution_count": null,
      "outputs": [
        {
          "output_type": "display_data",
          "data": {
            "text/plain": [
              "<Figure size 640x480 with 1 Axes>"
            ],
            "image/png": "[encoded data removed]"
          },
          "metadata": {}
        }
      ]
    },
    {
      "cell_type": "markdown",
      "source": [
        "## ii) Escalón unitario\n",
        "\n",
        "Condiciones iniciales cero"
      ],
      "metadata": {
        "id": "4pm4C0mKVWFE"
      }
    },
    {
      "cell_type": "code",
      "source": [
        "%matplotlib inline\n",
        "import sympy as sym\n",
        "sym.init_printing()\n",
        "\n",
        "s = sym.symbols('s', complex=True)\n",
        "t, R, L, C = sym.symbols('t R L C', positive=True)\n",
        "X = sym.Function('X')(s)\n",
        "\n",
        "Y = X/(L*C*s**2 + R*C*s + 1)\n",
        "RLC = {R:1 , L: sym.Rational('.5'), C: sym.Rational('.3')}\n",
        "\n",
        "y = sym.inverse_laplace_transform(Y.subs(RLC).subs(X, 1/s), s, t) # entrada escalón unitario en laplace es 1/s\n",
        "y = y.simplify()\n",
        "y"
      ],
      "metadata": {
        "id": "-VSEePI8VYxx",
        "colab": {
          "base_uri": "https://localhost:8080/",
          "height": 81
        },
        "outputId": "318eaff9-ff08-4c16-a370-6f287b72fff5"
      },
      "execution_count": null,
      "outputs": [
        {
          "output_type": "execute_result",
          "data": {
            "text/plain": [
              "⎛            ⎛√51⋅t⎞             ⎞    \n",
              "⎜     √51⋅sin⎜─────⎟             ⎟    \n",
              "⎜ t          ⎝  3  ⎠      ⎛√51⋅t⎞⎟  -t\n",
              "⎜ℯ  - ────────────── - cos⎜─────⎟⎟⋅ℯ  \n",
              "⎝           17            ⎝  3  ⎠⎠    "
            ],
            "text/latex": "$\\displaystyle \\left(e^{t} - \\frac{\\sqrt{51} \\sin{\\left(\\frac{\\sqrt{51} t}{3} \\right)}}{17} - \\cos{\\left(\\frac{\\sqrt{51} t}{3} \\right)}\\right) e^{- t}$"
          },
          "metadata": {},
          "execution_count": 8
        }
      ]
    },
    {
      "cell_type": "code",
      "source": [
        "sym.plot(y, (t, 0, 5), xlabel='$t$', ylabel='$y(t)$');"
      ],
      "metadata": {
        "id": "CnzxAxjFVb0I",
        "colab": {
          "base_uri": "https://localhost:8080/",
          "height": 484
        },
        "outputId": "0cca6b74-76d0-409b-81ed-7962b8a02972"
      },
      "execution_count": null,
      "outputs": [
        {
          "output_type": "display_data",
          "data": {
            "text/plain": [
              "<Figure size 640x480 with 1 Axes>"
            ],
            "image/png": "[encoded data removed]"
          },
          "metadata": {}
        }
      ]
    },
    {
      "cell_type": "markdown",
      "source": [
        "Condiciones iniciales diferentes cero\n",
        "\n",
        "\\begin{equation}\n",
        "y(t) = y_\\text{ext}(t) + y_\\text{int}(t)\n",
        "\\end{equation}"
      ],
      "metadata": {
        "id": "0G6nMDH-VeB5"
      }
    },
    {
      "cell_type": "code",
      "source": [
        "yext = y\n",
        "yext.simplify()"
      ],
      "metadata": {
        "id": "f-gdvB4XVg-i",
        "colab": {
          "base_uri": "https://localhost:8080/",
          "height": 81
        },
        "outputId": "6cc6f75c-8fae-4d36-e3fb-e7c49bf45cb8"
      },
      "execution_count": null,
      "outputs": [
        {
          "output_type": "execute_result",
          "data": {
            "text/plain": [
              "⎛            ⎛√51⋅t⎞             ⎞    \n",
              "⎜     √51⋅sin⎜─────⎟             ⎟    \n",
              "⎜ t          ⎝  3  ⎠      ⎛√51⋅t⎞⎟  -t\n",
              "⎜ℯ  - ────────────── - cos⎜─────⎟⎟⋅ℯ  \n",
              "⎝           17            ⎝  3  ⎠⎠    "
            ],
            "text/latex": "$\\displaystyle \\left(e^{t} - \\frac{\\sqrt{51} \\sin{\\left(\\frac{\\sqrt{51} t}{3} \\right)}}{17} - \\cos{\\left(\\frac{\\sqrt{51} t}{3} \\right)}\\right) e^{- t}$"
          },
          "metadata": {},
          "execution_count": 10
        }
      ]
    },
    {
      "cell_type": "code",
      "source": [
        "i0, y0 = sym.symbols('i0 y0', real=True)\n",
        "\n",
        "Yint = (R*C + L*C*s) / (L*C*s**2 + R*C*s + 1) * y0 + L / (L*C*s**2 + R*C*s + 1) * i0\n",
        "Yint"
      ],
      "metadata": {
        "id": "8IGZ0RRzVi2I",
        "colab": {
          "base_uri": "https://localhost:8080/",
          "height": 54
        },
        "outputId": "b7a2a9ce-7412-4485-aa57-02a793ca5712"
      },
      "execution_count": null,
      "outputs": [
        {
          "output_type": "execute_result",
          "data": {
            "text/plain": [
              "       L⋅i₀           y₀⋅(C⋅L⋅s + C⋅R) \n",
              "────────────────── + ──────────────────\n",
              "     2                    2            \n",
              "C⋅L⋅s  + C⋅R⋅s + 1   C⋅L⋅s  + C⋅R⋅s + 1"
            ],
            "text/latex": "$\\displaystyle \\frac{L i_{0}}{C L s^{2} + C R s + 1} + \\frac{y_{0} \\left(C L s + C R\\right)}{C L s^{2} + C R s + 1}$"
          },
          "metadata": {},
          "execution_count": 11
        }
      ]
    },
    {
      "cell_type": "code",
      "source": [
        "yint = sym.inverse_laplace_transform(Yint.subs(RLC).subs(i0, 2).subs(y0, 3), s, t)\n",
        "yint"
      ],
      "metadata": {
        "id": "pcCWo-3yVlR_",
        "colab": {
          "base_uri": "https://localhost:8080/",
          "height": 75
        },
        "outputId": "7c70a580-db79-4a91-ecea-25e71d4427b5"
      },
      "execution_count": null,
      "outputs": [
        {
          "output_type": "execute_result",
          "data": {
            "text/plain": [
              "        -t    ⎛√51⋅t⎞                   \n",
              "29⋅√51⋅ℯ  ⋅sin⎜─────⎟                   \n",
              "              ⎝  3  ⎠      -t    ⎛√51⋅t⎞\n",
              "───────────────────── + 3⋅ℯ  ⋅cos⎜─────⎟\n",
              "          51                     ⎝  3  ⎠"
            ],
            "text/latex": "$\\displaystyle \\frac{29 \\sqrt{51} e^{- t} \\sin{\\left(\\frac{\\sqrt{51} t}{3} \\right)}}{51} + 3 e^{- t} \\cos{\\left(\\frac{\\sqrt{51} t}{3} \\right)}$"
          },
          "metadata": {},
          "execution_count": 12
        }
      ]
    },
    {
      "cell_type": "code",
      "source": [
        "y = yext + yint\n",
        "y.simplify()"
      ],
      "metadata": {
        "id": "klnmez40VnV5",
        "colab": {
          "base_uri": "https://localhost:8080/",
          "height": 81
        },
        "outputId": "d0b15d9d-d564-4b13-c70d-6c48de454519"
      },
      "execution_count": null,
      "outputs": [
        {
          "output_type": "execute_result",
          "data": {
            "text/plain": [
              "⎛               ⎛√51⋅t⎞               ⎞    \n",
              "⎜     26⋅√51⋅sin⎜─────⎟               ⎟    \n",
              "⎜ t             ⎝  3  ⎠        ⎛√51⋅t⎞⎟  -t\n",
              "⎜ℯ  + ───────────────── + 2⋅cos⎜─────⎟⎟⋅ℯ  \n",
              "⎝             51               ⎝  3  ⎠⎠    "
            ],
            "text/latex": "$\\displaystyle \\left(e^{t} + \\frac{26 \\sqrt{51} \\sin{\\left(\\frac{\\sqrt{51} t}{3} \\right)}}{51} + 2 \\cos{\\left(\\frac{\\sqrt{51} t}{3} \\right)}\\right) e^{- t}$"
          },
          "metadata": {},
          "execution_count": 13
        }
      ]
    },
    {
      "cell_type": "markdown",
      "source": [
        "En la siguiente gráfica se presentan: la parte interna $y_\\text{int}(t)$ (Línea verde), la parte externa $y_\\text{ext}(t)$ (Línea azul), y señal de salida $y(t)$ (Línea roja)"
      ],
      "metadata": {
        "id": "8hn837StVpWx"
      }
    },
    {
      "cell_type": "code",
      "source": [
        "p1 = sym.plot(yext, (t, 0, 5), line_color='b', xlabel='$t$', ylabel='$y(t)$', show=False)\n",
        "p2 = sym.plot(yint, (t, 0, 5), line_color='g', show=False)\n",
        "p3 = sym.plot(y, (t, 0, 5), line_color='r', show=False)\n",
        "p1.extend(p2)\n",
        "p1.extend(p3)\n",
        "p1.show()"
      ],
      "metadata": {
        "id": "5amlPYKcVp-5",
        "colab": {
          "base_uri": "https://localhost:8080/",
          "height": 487
        },
        "outputId": "47fbff76-c746-4668-945d-7ba5bfaccfe8"
      },
      "execution_count": null,
      "outputs": [
        {
          "output_type": "display_data",
          "data": {
            "text/plain": [
              "<Figure size 640x480 with 1 Axes>"
            ],
            "image/png": "[encoded data removed]"
          },
          "metadata": {}
        }
      ]
    },
    {
      "cell_type": "markdown",
      "source": [
        "## iii) Rampa\n",
        "\n",
        "Condiciones iniciales cero"
      ],
      "metadata": {
        "id": "EnISBNUDVy-a"
      }
    },
    {
      "cell_type": "code",
      "source": [
        "%matplotlib inline\n",
        "import sympy as sym\n",
        "sym.init_printing()\n",
        "\n",
        "s = sym.symbols('s', complex=True)\n",
        "t, R, L, C = sym.symbols('t R L C', positive=True)\n",
        "X = sym.Function('X')(s)\n",
        "\n",
        "Y = X/(L*C*s**2 + R*C*s + 1)\n",
        "RLC = {R:2 , L: sym.Rational('.8'), C: sym.Rational('.8')}\n",
        "\n",
        "y = sym.inverse_laplace_transform(Y.subs(RLC).subs(X, 1/s**2), s, t) # entrada rampa en lapalce 1/s**2\n",
        "y = y.simplify()"
      ],
      "metadata": {
        "id": "dK_pGq9SV08Z"
      },
      "execution_count": null,
      "outputs": []
    },
    {
      "cell_type": "code",
      "source": [
        "sym.plot(y, (t, 0, 5), xlabel='$t$', ylabel='$y(t)$');"
      ],
      "metadata": {
        "id": "dYODLCQpV3sy",
        "colab": {
          "base_uri": "https://localhost:8080/",
          "height": 484
        },
        "outputId": "dbcaa671-35b0-4471-c9ca-9bfc0eb25d0d"
      },
      "execution_count": null,
      "outputs": [
        {
          "output_type": "display_data",
          "data": {
            "text/plain": [
              "<Figure size 640x480 with 1 Axes>"
            ],
            "image/png": "[encoded data removed]"
          },
          "metadata": {}
        }
      ]
    },
    {
      "cell_type": "markdown",
      "source": [
        "Condiciones iniciales diferentes cero\n",
        "\n",
        "\\begin{equation}\n",
        "y(t) = y_\\text{ext}(t) + y_\\text{int}(t)\n",
        "\\end{equation}"
      ],
      "metadata": {
        "id": "EWUT1GZ-V6oY"
      }
    },
    {
      "cell_type": "code",
      "source": [
        "yext = y\n",
        "yext.simplify()"
      ],
      "metadata": {
        "id": "wRIlZeMrV_VY",
        "colab": {
          "base_uri": "https://localhost:8080/",
          "height": 56
        },
        "outputId": "101fcf2c-f09e-45a1-8921-0a179a1e0906"
      },
      "execution_count": null,
      "outputs": [
        {
          "output_type": "execute_result",
          "data": {
            "text/plain": [
              "                      -5⋅t \n",
              "       -5⋅t           ─────\n",
              "       ─────            4  \n",
              "         4     8   8⋅ℯ     \n",
              "t + t⋅ℯ      - ─ + ────────\n",
              "               5      5    "
            ],
            "text/latex": "$\\displaystyle t + t e^{- \\frac{5 t}{4}} - \\frac{8}{5} + \\frac{8 e^{- \\frac{5 t}{4}}}{5}$"
          },
          "metadata": {},
          "execution_count": 17
        }
      ]
    },
    {
      "cell_type": "code",
      "source": [
        "i0, y0 = sym.symbols('i0 y0', real=True)\n",
        "\n",
        "Yint = (R*C + L*C*s) / (L*C*s**2 + R*C*s + 1) * y0 + L / (L*C*s**2 + R*C*s + 1) * i0\n",
        "Yint"
      ],
      "metadata": {
        "id": "H3fSL3D-WBO4",
        "colab": {
          "base_uri": "https://localhost:8080/",
          "height": 54
        },
        "outputId": "70ad7b5b-83f5-40af-e815-ac9245fb47e0"
      },
      "execution_count": null,
      "outputs": [
        {
          "output_type": "execute_result",
          "data": {
            "text/plain": [
              "       L⋅i₀           y₀⋅(C⋅L⋅s + C⋅R) \n",
              "────────────────── + ──────────────────\n",
              "     2                    2            \n",
              "C⋅L⋅s  + C⋅R⋅s + 1   C⋅L⋅s  + C⋅R⋅s + 1"
            ],
            "text/latex": "$\\displaystyle \\frac{L i_{0}}{C L s^{2} + C R s + 1} + \\frac{y_{0} \\left(C L s + C R\\right)}{C L s^{2} + C R s + 1}$"
          },
          "metadata": {},
          "execution_count": 18
        }
      ]
    },
    {
      "cell_type": "code",
      "source": [
        "yint = sym.inverse_laplace_transform(Yint.subs(RLC).subs(i0, -1).subs(y0, 4), s, t)\n",
        "yint"
      ],
      "metadata": {
        "id": "0h-7BsZDWDMr",
        "colab": {
          "base_uri": "https://localhost:8080/",
          "height": 56
        },
        "outputId": "4778875a-db1e-4eac-e955-b703e2d560e0"
      },
      "execution_count": null,
      "outputs": [
        {
          "output_type": "execute_result",
          "data": {
            "text/plain": [
              "      -5⋅t            \n",
              "      ─────      -5⋅t \n",
              "        4        ─────\n",
              "15⋅t⋅ℯ             4  \n",
              "─────────── + 4⋅ℯ     \n",
              "     4                "
            ],
            "text/latex": "$\\displaystyle \\frac{15 t e^{- \\frac{5 t}{4}}}{4} + 4 e^{- \\frac{5 t}{4}}$"
          },
          "metadata": {},
          "execution_count": 19
        }
      ]
    },
    {
      "cell_type": "code",
      "source": [
        "y = yext + yint\n",
        "y.simplify()"
      ],
      "metadata": {
        "id": "eU6x0DmnWFJW",
        "colab": {
          "base_uri": "https://localhost:8080/",
          "height": 66
        },
        "outputId": "ca24e0c6-168d-44da-8ebc-5db194ba1e4c"
      },
      "execution_count": null,
      "outputs": [
        {
          "output_type": "execute_result",
          "data": {
            "text/plain": [
              "⎛                    5⋅t      ⎞  -5⋅t \n",
              "⎜                    ───      ⎟  ─────\n",
              "⎜                     4       ⎟    4  \n",
              "⎝95⋅t + 4⋅(5⋅t - 8)⋅ℯ    + 112⎠⋅ℯ     \n",
              "──────────────────────────────────────\n",
              "                  20                  "
            ],
            "text/latex": "$\\displaystyle \\frac{\\left(95 t + 4 \\cdot \\left(5 t - 8\\right) e^{\\frac{5 t}{4}} + 112\\right) e^{- \\frac{5 t}{4}}}{20}$"
          },
          "metadata": {},
          "execution_count": 20
        }
      ]
    },
    {
      "cell_type": "markdown",
      "source": [
        "En la siguiente gráfica se presentan: la parte interna $y_\\text{int}(t)$ (Línea verde), la parte externa $y_\\text{ext}(t)$ (Línea azul), y señal de salida $y(t)$ (Línea roja)"
      ],
      "metadata": {
        "id": "rE3jaEhvWFno"
      }
    },
    {
      "cell_type": "code",
      "source": [
        "p1 = sym.plot(yext, (t, 0, 5), line_color='b', xlabel='$t$', ylabel='$y(t)$', show=False)\n",
        "p2 = sym.plot(yint, (t, 0, 5), line_color='g', show=False)\n",
        "p3 = sym.plot(y, (t, 0, 5), line_color='r', show=False)\n",
        "p1.extend(p2)\n",
        "p1.extend(p3)\n",
        "p1.show()"
      ],
      "metadata": {
        "id": "ITn6spD8WHrl",
        "colab": {
          "base_uri": "https://localhost:8080/",
          "height": 484
        },
        "outputId": "505b5923-590e-4633-9afd-56979d7f35dc"
      },
      "execution_count": null,
      "outputs": [
        {
          "output_type": "display_data",
          "data": {
            "text/plain": [
              "<Figure size 640x480 with 1 Axes>"
            ],
            "image/png": "[encoded data removed]"
          },
          "metadata": {}
        }
      ]
    },
    {
      "cell_type": "markdown",
      "metadata": {
        "id": "99-s2gWjt5z2"
      },
      "source": [
        "**9.** Consulte en que consiste un sistema subamortiguado, sobreamortiguado y de amortiguamiento crítico. Genere una simulación para ejemplificar cada uno de los casos con el sistema en R,L,C serie y paralelo estudiados.\n",
        "\n",
        "\n",
        "\n",
        "##**Circuito En Serie**"
      ]
    },
    {
      "cell_type": "code",
      "execution_count": null,
      "metadata": {
        "cellView": "form",
        "id": "Aj3Z9xnaLs45"
      },
      "outputs": [],
      "source": [
        "#@title Ingrese los valores para el circuito RLC en serie.\n",
        "\n",
        "R=40 #@param {type:\"number\",min:0}\n",
        "L=0.1 #@param {type:\"number\",min:0}\n",
        "C=5 #@param {type:\"number\",min:0}\n",
        "\n",
        "s=sym.symbols('s')"
      ]
    },
    {
      "cell_type": "code",
      "execution_count": null,
      "metadata": {
        "id": "bENyggYdLwTb"
      },
      "outputs": [],
      "source": [
        "\n",
        "Wn=1/np.sqrt(L*C)\n",
        "md=(f'El valor de $\\omega_n$ es: {Wn:.2f}')"
      ]
    },
    {
      "cell_type": "code",
      "execution_count": null,
      "metadata": {
        "id": "f24wNQFDLypz"
      },
      "outputs": [],
      "source": [
        "K=1\n",
        "md=(f'El valor de $K$ es: {K:.2f}')"
      ]
    },
    {
      "cell_type": "code",
      "execution_count": null,
      "metadata": {
        "id": "IcDdX4Y-L1hK"
      },
      "outputs": [],
      "source": [
        "Xi=(R*C)/(2*np.sqrt(L*C))\n",
        "md=(f'El valor de $\\Xi$ es: {Xi:.2f}')"
      ]
    },
    {
      "cell_type": "code",
      "execution_count": null,
      "metadata": {
        "colab": {
          "base_uri": "https://localhost:8080/"
        },
        "id": "4EJ9GXiwfTe9",
        "outputId": "181ef474-38c7-44b3-8402-9ddb04bdb32d"
      },
      "outputs": [
        {
          "output_type": "stream",
          "name": "stderr",
          "text": [
            "<ipython-input-32-512236e1fbc4>:1: RuntimeWarning: invalid value encountered in sqrt\n",
            "  Wd=Wn*np.sqrt(1-Xi**2)\n"
          ]
        }
      ],
      "source": [
        "Wd=Wn*np.sqrt(1-Xi**2)\n",
        "md=(f'El valor de $\\omega_d$ es: {Wd:.2f}')"
      ]
    },
    {
      "cell_type": "code",
      "execution_count": null,
      "metadata": {
        "colab": {
          "base_uri": "https://localhost:8080/"
        },
        "id": "NzDDLRJ4L3e5",
        "outputId": "b82804d0-ec46-4bf3-fd97-3a16822df508"
      },
      "outputs": [
        {
          "output_type": "stream",
          "name": "stdout",
          "text": [
            "El sistema es sobreamortiguado\n"
          ]
        }
      ],
      "source": [
        "if Xi>1:\n",
        "  print(\"El sistema es sobreamortiguado\")\n",
        "elif Xi<0:\n",
        "  print(\"El sistema es inestable\")\n",
        "elif Xi==1:\n",
        "  print(\"El sistema es criticamente amortiguado\")\n",
        "elif Xi==0:\n",
        "  print(\"El sistema es oscilador\")\n",
        "else:\n",
        "  print(\"El sistema es subamortiguado\")"
      ]
    },
    {
      "cell_type": "code",
      "execution_count": null,
      "metadata": {
        "id": "b5ON_o9uL5Zk"
      },
      "outputs": [],
      "source": [
        "num=[0, 0, Wn**2]\n",
        "den=[1, 2*Wn*Xi, Wn**2]\n",
        "\n",
        "Hs=signal.TransferFunction(num,den)"
      ]
    },
    {
      "cell_type": "code",
      "execution_count": null,
      "metadata": {
        "colab": {
          "base_uri": "https://localhost:8080/",
          "height": 452
        },
        "id": "6yovlzltL9aC",
        "outputId": "ab44ec9f-f3c9-4c40-aeed-531eb58fc316"
      },
      "outputs": [
        {
          "output_type": "display_data",
          "data": {
            "text/plain": [
              "<Figure size 640x480 with 1 Axes>"
            ],
            "image/png": "[encoded data removed]"
          },
          "metadata": {}
        }
      ],
      "source": [
        "time, response=signal.step(Hs)\n",
        "\n",
        "plt.plot(time,response)\n",
        "plt.title(\"Simulación\")\n",
        "plt.show()"
      ]
    },
    {
      "cell_type": "markdown",
      "metadata": {
        "id": "3UFTTMbactPx"
      },
      "source": [
        "##**Circuito En Paralelo**"
      ]
    },
    {
      "cell_type": "code",
      "execution_count": null,
      "metadata": {
        "cellView": "form",
        "id": "jN4v9w7lcsjN"
      },
      "outputs": [],
      "source": [
        "#@title Ingrese los valores para el circuito RLC en serie.\n",
        "\n",
        "R=0.01 #@param {type:\"number\",min:0}\n",
        "L=0.1 #@param {type:\"number\",min:0}\n",
        "C=250 #@param {type:\"number\",min:0}\n",
        "\n",
        "s=sym.symbols('s')"
      ]
    },
    {
      "cell_type": "code",
      "execution_count": null,
      "metadata": {
        "id": "T4bURpDLc1I-"
      },
      "outputs": [],
      "source": [
        "Wnp=1/np.sqrt(L*C)\n",
        "md=(f'El valor de $\\omega_n$ es: {Wnp:.2f}')"
      ]
    },
    {
      "cell_type": "code",
      "execution_count": null,
      "metadata": {
        "id": "jZBsq2qZdiKg"
      },
      "outputs": [],
      "source": [
        "Kp=1/R\n",
        "md=(f'El valor de $K$ es: {Kp:.2f}')"
      ]
    },
    {
      "cell_type": "code",
      "execution_count": null,
      "metadata": {
        "id": "_d9l_KO5d1fP"
      },
      "outputs": [],
      "source": [
        "Xip=np.sqrt(L*C)/(2*R*C)\n",
        "md=(f'El valor de $\\Xi$ es: {Xip:.2f}')"
      ]
    },
    {
      "cell_type": "code",
      "execution_count": null,
      "metadata": {
        "id": "Tl5iOYCffzdi"
      },
      "outputs": [],
      "source": [
        "Wdp=Wnp*np.sqrt(1-Xip**2)\n",
        "md=(f'El valor de $\\omega_d$ es: {Wdp:.2f}')"
      ]
    },
    {
      "cell_type": "code",
      "execution_count": null,
      "metadata": {
        "colab": {
          "base_uri": "https://localhost:8080/"
        },
        "id": "99OTiz-wd7JJ",
        "outputId": "ac4b2319-3f2c-4e2b-9491-0dca07a8a0da"
      },
      "outputs": [
        {
          "output_type": "stream",
          "name": "stdout",
          "text": [
            "El sistema es criticamente amortiguado\n"
          ]
        }
      ],
      "source": [
        "if Xip>1:\n",
        "  print(\"El sistema es sobreamortiguado\")\n",
        "elif Xip<0:\n",
        "  print(\"El sistema es inestable\")\n",
        "elif Xip==1:\n",
        "  print(\"El sistema es criticamente amortiguado\")\n",
        "elif Xip==0:\n",
        "  print(\"El sistema es oscilador\")\n",
        "else:\n",
        "  print(\"El sistema es subamortiguado\")"
      ]
    },
    {
      "cell_type": "code",
      "execution_count": null,
      "metadata": {
        "id": "ABtrbiqZeJ5l"
      },
      "outputs": [],
      "source": [
        "num=[0, 0, Wnp**2]\n",
        "den=[1, 2*Wnp*Xip, Wnp**2]\n",
        "\n",
        "Hs=signal.TransferFunction(num,den)"
      ]
    },
    {
      "cell_type": "code",
      "execution_count": null,
      "metadata": {
        "colab": {
          "base_uri": "https://localhost:8080/",
          "height": 452
        },
        "id": "RYCc4YnLeUGM",
        "outputId": "19a749b0-3080-47c2-e274-f68960b50dda"
      },
      "outputs": [
        {
          "output_type": "display_data",
          "data": {
            "text/plain": [
              "<Figure size 640x480 with 1 Axes>"
            ],
            "image/png": "[encoded data removed]"
          },
          "metadata": {}
        }
      ],
      "source": [
        "time, response=signal.step(Hs)\n",
        "\n",
        "plt.plot(time,response)\n",
        "plt.title(\"Simulación\")\n",
        "plt.show()"
      ]
    },
    {
      "cell_type": "markdown",
      "source": [
        "**10.** Para los sistemas del punto 9, encuentre las expresiones para el factor de amortiguamiento $\\xi$, la frecuencia natural no amortiguada $\\omega_n$ y la frecuencia natural amortiguada $\\omega_d$ en función de R,L,C. Nota: asuma las condiciones iniciales cero."
      ],
      "metadata": {
        "id": "cu9oS5REuMp3"
      }
    },
    {
      "cell_type": "markdown",
      "source": [
        "##Transformada Z y filtros digitales\n",
        "\n"
      ],
      "metadata": {
        "id": "hLV_d2nluwi6"
      }
    },
    {
      "cell_type": "markdown",
      "source": [
        "**1.**\n",
        "Consulte en que consiste la transformada Z. Explique las semejanzas y diferencias entre la serie de Fourier, transformada de Laplace y la transformada Z."
      ],
      "metadata": {
        "id": "Bpdq78uOu-ac"
      }
    },
    {
      "cell_type": "markdown",
      "source": [
        "**2.**\n",
        "Encuentre la transformada Z para las siguiente señales."
      ],
      "metadata": {
        "id": "PZtb8x4RvOYU"
      }
    },
    {
      "cell_type": "markdown",
      "metadata": {
        "id": "1owdVhy2n8Rj"
      },
      "source": [
        "**3.**\n",
        "Consulte en que consiste el metodo de diseño de filtros FIR por ventaneo(Ver funcion firwin y material de apoyo). Realice un cuadro comparativo de las ventajas y desventajas de los filtros IIR y los FIR."
      ]
    },
    {
      "cell_type": "markdown",
      "metadata": {
        "id": "KXhhIi1BQfrL"
      },
      "source": [
        "\n",
        "###Filtros de respuesta finita al impulso (FIR)\n",
        "\n",
        "Los filtros de respuesta finita al impulso, FIR por sus siglas en inglés, son filtros que no tienen realimentación. Gracias a esto, se caracterizan por tener una fase perfectamente lineal y son siempre estables. También, su montaje es muy sencillo. Se rige por la siguiente ecuación:\n",
        "\n",
        "$$\n",
        "y[n]=\\sum_{k=0}^{N-1}h[k]x[n-k]\n",
        "$$\n",
        "\n",
        "Si se le aplicara la transformada Z, quedaría como\n",
        "\n",
        "$$\n",
        "H[z]=\\sum_{k=0}^{N-1}h[k]z^{-k}\n",
        "$$\n",
        "\n",
        "![Ilustración FIR](https://upload.wikimedia.org/wikipedia/commons/3/35/FIR_estr.PNG)\n",
        "\n",
        "Como se puede ver en la imagen, la $T$ es el retardo y $h(n)$ los coeficientes. Los polos se encuentran en el origen y los ceros se presentan en pares de recíprocos si el filtro se diseña para tener fase lineal. El uso normal de estos filtros se debe a la modificación mediante la atenuación o amplificación de la frecuencia, controlando tonos graves o agudos dependiendo su necesidad.\n",
        "\n",
        "\n",
        "###Filtros de respuesta infinita al impulso (IIR)}\n",
        "\n",
        "Los filtros de respuesta infinita al impulso, IIR por sus siglas en inglés, tienen una realimentación, por lo cual dependen de su señales de entrada y salida. Uno de los riesgos con este tipo filtros es que si se diseña de forma incorrecta, pueden llegar a ser inestables. Estos filtros se caracterizan con la siguiente ecuación\n",
        "\n",
        "$$\n",
        "y[n]=b_0x[n]+b_1x[n-1]+ \\ldots + b_Nx[n-N]-a_1y[n-1]-a_2y[n-2]- \\ldots -a_My[n-M]\n",
        "$$\n",
        "\n",
        "donde $a$ y $b$ son los coeficientes del filtro. Si se aplica la transformada Z, esta daría\n",
        "\n",
        "$$\n",
        "H[z]=\\frac{\\sum_{k=0}^Nb_kz^{-k}}{1+\\sum_{k=1}^M a_kz^{-k}}\n",
        "$$\n",
        "\n",
        "![Ilustración IIR](https://upload.wikimedia.org/wikipedia/commons/thumb/d/d5/IIR-filter.png/220px-IIR-filter.png)\n",
        "\n",
        "###Paralelo\n",
        "\n",
        "* Mediante la respuesta en impulso podemos diferenciar mediante el numero de términos, puesto que en un FIR estos son finitos al contrario de un IIR.\n",
        "\n",
        "* La retroalimentación  es un factor determinante ya que define la estabilidad dependiendo la construcción del circuito, siendo en el FIR menos relevante ya que es carente de esta logrando una estabilidad perfecta.\n",
        "\n",
        "* Mientras que la fase del FIR es completamente lineal, la del IRR puede ser bidireccional pero nunca lineal.\n"
      ]
    },
    {
      "cell_type": "markdown",
      "metadata": {
        "id": "_iFLHw6-elEs"
      },
      "source": [
        "**4.** Presente una comparación entre las estrategias de diseño mediante invarianza al impulso y transofrmación bilineal\n",
        "\n",
        "###Invarianza al impulso\n",
        "\n",
        "\n",
        "*   Se mantiene la respuesta impulsional de ambos filtros\n",
        "*   La estabilidad se mantiene (Filtros analógicos estables dan lugar a filtros digitales estables).\n",
        "* La relación entre frecuencias es *lineal* ya que: \\\\\n",
        "Analógico:\n",
        "$s_k=jΩ$ \\\\\n",
        "Digital:\n",
        "$z=e^{s_kT}=e^{jΩT}$  $w=ΩT$ \\\\\n",
        "$z=e^{jw}$\n",
        "$w=ΩT$\n",
        "* Causa que señales continuas *distintas* se tornen *indistinguibles* cuando se muestrea. Sabemos que en los filtros ideales su respuesta no puede ser cero en una banda por lo que independientemente del valor de $T$, siempre habrá una contribución de $H(Ω)$ que no verificará el teorema de muestreo. Si la frecuencia de muestreo es $𝝮_s= 2πFs$ , todas las frecuencia analógicas por encima de $Ω_s/2$ producirán *aliasing*.\n",
        "* Para un correcto funcionamiento, el filtro analógico debe verificar $H(Ω)≅0$  $|Ω|>\\frac{Ω_s}{2}$.\n",
        "* Este método no es adecuado para el diseño de filtros pasa-alta ni elimina-banda. Además, si tenemos en cuenta los prototipos analógicos considerados, los filtros de Tchebyshev II y los Elípticos presentarán peor comportamiento debido al rizado en la banda no pasante.\n",
        "\n",
        "###Transformación bilineal\n",
        "* La diferencia entre el filtro analógico y el digital decrece a medida que T $\\rightarrow$ 0, ya que la aproximación de los trapecios es más exacta.\n",
        "*  La estabilidad se mantiene (Filtros analógicos estables dan lugar a filtros digitales estables).La relación entre frrecuencias asegura que si $Ω_1<Ω_2 \\rightarrow ω_1<ω_2$, es decir, un pasa-baja analógico dará lugar a un pasa-baja digital, así con todo el resto de filtros.\n",
        "* La relación entre las frecuencias analógica y digitales es *no lineal* y viene dada por:\n",
        "\\begin{align*}\n",
        "ω=2.Tan^{-1}\\left(\\frac{T𝛀}{2}\\right)          &   &Ω=\\frac{2}{T}.Tan\\left( \\frac{ω}{2} \\right)\\\\\n",
        "\\end{align*}\n",
        "Donde:\n",
        "$ω=2π\\frac{F}{F_s}$ \\\\\n",
        "Es decir, se lleva a cabo una compresión de las frecuencias analógicas. Este proceso de “Deformación” es lo que se denomina *warping*."
      ]
    },
    {
      "cell_type": "markdown",
      "metadata": {
        "id": "2w3enVjPF1E7"
      },
      "source": [
        "**5.** Realizar los ejercicio propuestos en el cuaderno Filtros digitales y transformada Z.\n",
        "\n",
        "1. Descargue 10 segundos de la canción de su preferencia desde youtube, y generé un filtro pasabanda (el usuario debe poder definir las frecuencias de corte) para cada uno de los filtros descritos (el usuario también debe poder fijar los parámetros de diseño de cada filtro). Compare los resultados de los filtros estudiados en este cuaderno tipo IIR para diseño Butterworth, Chebyshev 1, Chebyshev 2, Bessel y Elíptico.\n",
        "\n",
        "> **R/** El punto 5.1 y 5.3 se encuentran en el siguiente [colab](https://colab.research.google.com/drive/1FUuFctRcHi4Fz7u1TOZJ15Gntf8KnPLk?usp=sharing)"
      ]
    },
    {
      "cell_type": "markdown",
      "metadata": {
        "id": "Jd3jBK0WGQJ7"
      },
      "source": [
        "2. Consulte en qué consiste el método de diseño de filtros FIR por ventaneo (Ver función [firwin](https://docs.scipy.org/doc/scipy/reference/generated/scipy.signal.firwin.html) y [material de apoyo](https://ccrma.stanford.edu/~jos/sasp/Window_Method_FIR_Filter.html#:~:text=The%20window%20method%20for%20digital,and%20windows%20for%20spectrum%20analysis)). Realice un cuadro comparativo de las ventajas y desventajas de los filtros IIR y los FIR.\n",
        "\n",
        "**R/** Filtros FIR\n",
        "\n",
        "Ventajas:\n",
        "- Su respuesta al impulso es fácil de obtener a través del vector de coeficientes.\n",
        "- Su respuesta en frecuencia es fácil de analizar a través de la transformada de Fourier.\n",
        "- Son fáciles de diseñar definiendo su respuesta en frecuencia y usando la transformada inversa.\n",
        "\n",
        "Desventajas:\n",
        "\n",
        "- Es necesario un gran número de coeficientes para conseguir las mismas prestaciones que daría un filtro IIR de orden mucho menor.\n",
        "- Para conseguir una buena resolución a bajas frecuencias se requieren muchos coeficientes.\n",
        "- Al necesitar más coeficientes, tiene un retardo grande. A veces no aptos para directos.\n",
        "\n",
        "Filtros IIR\n",
        "\n",
        "Ventajas:\n",
        "- Requieren menos coeficientes para hacer operaciones similares de filtrado.\n",
        "- Se ejecutan más rápido y no requieren de memoria externa.\n",
        "\n",
        "Desventajas:\n",
        "\n",
        "- La respuesta de la fase no es lineal.\n",
        "- La naturaleza recursiva de estos filtros hace que sean más difíciles de diseñar e implementar.\n",
        "\n",
        "3. Incluya la implementación del filtro `firwin` en el punto 1."
      ]
    }
  ],
  "metadata": {
    "colab": {
      "provenance": [],
      "include_colab_link": true
    },
    "kernelspec": {
      "display_name": "Python 3",
      "name": "python3"
    },
    "language_info": {
      "name": "python"
    }
  },
  "nbformat": 4,
  "nbformat_minor": 0
}